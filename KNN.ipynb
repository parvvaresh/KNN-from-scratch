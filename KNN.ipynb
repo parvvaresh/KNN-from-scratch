{
  "nbformat": 4,
  "nbformat_minor": 0,
  "metadata": {
    "colab": {
      "provenance": [],
      "authorship_tag": "ABX9TyPhAZvi5H7NyyMTT4+7h2KH",
      "include_colab_link": true
    },
    "kernelspec": {
      "name": "python3",
      "display_name": "Python 3"
    },
    "language_info": {
      "name": "python"
    }
  },
  "cells": [
    {
      "cell_type": "markdown",
      "metadata": {
        "id": "view-in-github",
        "colab_type": "text"
      },
      "source": [
        "<a href=\"https://colab.research.google.com/github/parvvaresh/KNN-from-scratch/blob/main/KNN.ipynb\" target=\"_parent\"><img src=\"https://colab.research.google.com/assets/colab-badge.svg\" alt=\"Open In Colab\"/></a>"
      ]
    },
    {
      "cell_type": "markdown",
      "source": [
        "![pandas.svg](data:image/svg+xml;base64,PHN2ZyB4bWxucz0iaHR0cDovL3d3dy53My5vcmcvMjAwMC9zdmciIHhtbG5zOnhsaW5rPSJodHRwOi8vd3d3LnczLm9yZy8xOTk5L3hsaW5rIiB3aWR0aD0iNzMuNiIgaGVpZ2h0PSIyMCI+PGxpbmVhckdyYWRpZW50IGlkPSJzbW9vdGgiIHgyPSIwIiB5Mj0iMTAwJSI+PHN0b3Agb2Zmc2V0PSIwIiBzdG9wLWNvbG9yPSIjYmJiIiBzdG9wLW9wYWNpdHk9Ii4xIi8+PHN0b3Agb2Zmc2V0PSIxIiBzdG9wLW9wYWNpdHk9Ii4xIi8+PC9saW5lYXJHcmFkaWVudD48Y2xpcFBhdGggaWQ9InJvdW5kIj48cmVjdCB3aWR0aD0iNzMuNiIgaGVpZ2h0PSIyMCIgcng9IjMiIGZpbGw9IiNmZmYiLz48L2NsaXBQYXRoPjxnIGNsaXAtcGF0aD0idXJsKCNyb3VuZCkiPjxyZWN0IHdpZHRoPSI1MC4xIiBoZWlnaHQ9IjIwIiBmaWxsPSIjNTU1Ii8+PHJlY3QgeD0iNTAuMSIgd2lkdGg9IjIzLjUiIGhlaWdodD0iMjAiIGZpbGw9IiNlMDVkNDQiLz48cmVjdCB3aWR0aD0iNzMuNiIgaGVpZ2h0PSIyMCIgZmlsbD0idXJsKCNzbW9vdGgpIi8+PC9nPjxnIGZpbGw9IiNmZmYiIHRleHQtYW5jaG9yPSJtaWRkbGUiIGZvbnQtZmFtaWx5PSJEZWphVnUgU2FucyxWZXJkYW5hLEdlbmV2YSxzYW5zLXNlcmlmIiBmb250LXNpemU9IjExMCI+PHRleHQgeD0iMjYwLjUiIHk9IjE1MCIgZmlsbD0iIzAxMDEwMSIgZmlsbC1vcGFjaXR5PSIuMyIgdHJhbnNmb3JtPSJzY2FsZSgwLjEpIiB0ZXh0TGVuZ3RoPSI0MDEuMCIgbGVuZ3RoQWRqdXN0PSJzcGFjaW5nIj5wYW5kYXM8L3RleHQ+PHRleHQgeD0iMjYwLjUiIHk9IjE0MCIgdHJhbnNmb3JtPSJzY2FsZSgwLjEpIiB0ZXh0TGVuZ3RoPSI0MDEuMCIgbGVuZ3RoQWRqdXN0PSJzcGFjaW5nIj5wYW5kYXM8L3RleHQ+PHRleHQgeD0iNjA4LjUiIHk9IjE1MCIgZmlsbD0iIzAxMDEwMSIgZmlsbC1vcGFjaXR5PSIuMyIgdHJhbnNmb3JtPSJzY2FsZSgwLjEpIiB0ZXh0TGVuZ3RoPSIxMzUuMCIgbGVuZ3RoQWRqdXN0PSJzcGFjaW5nIj5weTwvdGV4dD48dGV4dCB4PSI2MDguNSIgeT0iMTQwIiB0cmFuc2Zvcm09InNjYWxlKDAuMSkiIHRleHRMZW5ndGg9IjEzNS4wIiBsZW5ndGhBZGp1c3Q9InNwYWNpbmciPnB5PC90ZXh0PjwvZz48L3N2Zz4K)\n",
        "\n",
        "![numpy.svg](data:image/svg+xml;base64,PHN2ZyB4bWxucz0iaHR0cDovL3d3dy53My5vcmcvMjAwMC9zdmciIHhtbG5zOnhsaW5rPSJodHRwOi8vd3d3LnczLm9yZy8xOTk5L3hsaW5rIiB3aWR0aD0iNzEuNyIgaGVpZ2h0PSIyMCI+PGxpbmVhckdyYWRpZW50IGlkPSJzbW9vdGgiIHgyPSIwIiB5Mj0iMTAwJSI+PHN0b3Agb2Zmc2V0PSIwIiBzdG9wLWNvbG9yPSIjYmJiIiBzdG9wLW9wYWNpdHk9Ii4xIi8+PHN0b3Agb2Zmc2V0PSIxIiBzdG9wLW9wYWNpdHk9Ii4xIi8+PC9saW5lYXJHcmFkaWVudD48Y2xpcFBhdGggaWQ9InJvdW5kIj48cmVjdCB3aWR0aD0iNzEuNyIgaGVpZ2h0PSIyMCIgcng9IjMiIGZpbGw9IiNmZmYiLz48L2NsaXBQYXRoPjxnIGNsaXAtcGF0aD0idXJsKCNyb3VuZCkiPjxyZWN0IHdpZHRoPSI0OC4yIiBoZWlnaHQ9IjIwIiBmaWxsPSIjNTU1Ii8+PHJlY3QgeD0iNDguMiIgd2lkdGg9IjIzLjUiIGhlaWdodD0iMjAiIGZpbGw9IiNkZmIzMTciLz48cmVjdCB3aWR0aD0iNzEuNyIgaGVpZ2h0PSIyMCIgZmlsbD0idXJsKCNzbW9vdGgpIi8+PC9nPjxnIGZpbGw9IiNmZmYiIHRleHQtYW5jaG9yPSJtaWRkbGUiIGZvbnQtZmFtaWx5PSJEZWphVnUgU2FucyxWZXJkYW5hLEdlbmV2YSxzYW5zLXNlcmlmIiBmb250LXNpemU9IjExMCI+PHRleHQgeD0iMjUxLjAiIHk9IjE1MCIgZmlsbD0iIzAxMDEwMSIgZmlsbC1vcGFjaXR5PSIuMyIgdHJhbnNmb3JtPSJzY2FsZSgwLjEpIiB0ZXh0TGVuZ3RoPSIzODIuMCIgbGVuZ3RoQWRqdXN0PSJzcGFjaW5nIj5udW1weTwvdGV4dD48dGV4dCB4PSIyNTEuMCIgeT0iMTQwIiB0cmFuc2Zvcm09InNjYWxlKDAuMSkiIHRleHRMZW5ndGg9IjM4Mi4wIiBsZW5ndGhBZGp1c3Q9InNwYWNpbmciPm51bXB5PC90ZXh0Pjx0ZXh0IHg9IjU4OS41IiB5PSIxNTAiIGZpbGw9IiMwMTAxMDEiIGZpbGwtb3BhY2l0eT0iLjMiIHRyYW5zZm9ybT0ic2NhbGUoMC4xKSIgdGV4dExlbmd0aD0iMTM1LjAiIGxlbmd0aEFkanVzdD0ic3BhY2luZyI+cHk8L3RleHQ+PHRleHQgeD0iNTg5LjUiIHk9IjE0MCIgdHJhbnNmb3JtPSJzY2FsZSgwLjEpIiB0ZXh0TGVuZ3RoPSIxMzUuMCIgbGVuZ3RoQWRqdXN0PSJzcGFjaW5nIj5weTwvdGV4dD48L2c+PC9zdmc+Cg==)\n",
        "\n",
        "**Introduction**\n",
        "\n",
        "The reason we find that much importance is given to classification algorithms and not much is given to regression algorithms is because a lot of problems faced during our daily routine belong to the classification task. For example, we would like to know whether a tumor is malignant or benign, we would like to know whether the product we sold was received positively or negatively by the consumers, etc. K nearest neighbors is another classification algorithm and it is very simple one too. If you are following this article after K means algorithm, don't get confused as these both belong to different domains of learning. K means is a clustering/unsupervised algorithm whereas K nearest neighbors is a classification/supervised learning algorithm.\n",
        "\n",
        "\n",
        "\n",
        "---\n",
        "**What is K??**\n",
        "\n",
        "In K means algorithm, for each test data point, we would be looking at the K nearest training data points and take the most frequently occurring classes and assign that class to the test data. Therefore, K represents the number of training data points lying in proximity to the test data point which we are going to use to find the class.\n",
        "\n",
        "\n",
        "---\n",
        "\n",
        "**K Nearest Neighbours — Pseudocode**\n",
        "1. Load the training and test data \n",
        "2. Choose the value of K \n",
        "3. For each point in test data:\n",
        "       - find the Euclidean distance to all training data points\n",
        "       - store the Euclidean distances in a list and sort it \n",
        "       - choose the first k points \n",
        "       - assign a class to the test point based on the majority of      classes present in the chosen points\n",
        "4. End \n"
      ],
      "metadata": {
        "id": "BUrLoQQD1sET"
      }
    },
    {
      "cell_type": "code",
      "source": [
        "import numpy as np\n",
        "\n",
        "class KNN:\n",
        "  def __init__(self, k = 3):\n",
        "    self.k = k\n",
        "  def distance_calculation(self, x1, x2):\n",
        "    return np.sqrt(np.sum((x1 - x2) ** 2))\n",
        "  \n",
        "  def fit(self, x, y):\n",
        "    self.x_train = x\n",
        "    self.y_train = y\n",
        "  def predict(self, x_test):\n",
        "    y_pred = [(self._predict(test)) for test in x_test]\n",
        "    return np.array(y_pred)\n",
        "  \n",
        "  def _predict(self, X):\n",
        "    distance = [(self.distance_calculation(train, X)) for train in self.x_train]\n",
        "\n",
        "    index_sort = np.argsort(distance)[ : self.k]\n",
        "\n",
        "    labels = [(self.y_train[index]) for index in index_sort]\n",
        "\n",
        "    count_labels = {}\n",
        "\n",
        "    for label in set(labels):\n",
        "      count_labels.update({label : 0})\n",
        "\n",
        "    for label in labels:\n",
        "      count_labels[label] += 1\n",
        "    count_labels = dict(sorted(count_labels.items(), key = lambda  item : item[1]))\n",
        "\n",
        "    return list(count_labels.keys())[-1]\n",
        "  def accuracy(self, y, y_pred):\n",
        "    return np.sum(y == y_pred) / len(y)"
      ],
      "metadata": {
        "id": "iO9P2nwi1pg7"
      },
      "execution_count": 37,
      "outputs": []
    },
    {
      "cell_type": "markdown",
      "source": [
        "For the test, he used **sklearn** data, which is related to flowers\n",
        "\n",
        "For better understanding, we showed them as **data frames**\n",
        "\n",
        "\n",
        "---\n",
        "\n",
        "\n",
        "Click on the picture to download the dataset‌‌  : \n",
        "\n",
        "\n",
        "[![image.png](data:image/png;base64,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)](https://www.kaggle.com/datasets/saurabh00007/iriscsv)"
      ],
      "metadata": {
        "id": "k_X2R_ee8E9p"
      }
    },
    {
      "cell_type": "code",
      "source": [
        "#load data\n",
        "from sklearn import datasets\n",
        "import pandas as pd\n",
        "iris = datasets.load_iris()\n",
        "X, y = iris.data, iris.target\n",
        "\n",
        "iris_df = pd.DataFrame(iris.data, columns=iris.feature_names)\n",
        "iris_df[\"target\"] = iris.target\n",
        "\n",
        "iris_df.head(5)"
      ],
      "metadata": {
        "colab": {
          "base_uri": "https://localhost:8080/",
          "height": 206
        },
        "id": "4nf3-tGcqchY",
        "outputId": "03d05380-7c73-4c5f-f180-15581b82339b"
      },
      "execution_count": 34,
      "outputs": [
        {
          "output_type": "execute_result",
          "data": {
            "text/plain": [
              "   sepal length (cm)  sepal width (cm)  petal length (cm)  petal width (cm)  \\\n",
              "0                5.1               3.5                1.4               0.2   \n",
              "1                4.9               3.0                1.4               0.2   \n",
              "2                4.7               3.2                1.3               0.2   \n",
              "3                4.6               3.1                1.5               0.2   \n",
              "4                5.0               3.6                1.4               0.2   \n",
              "\n",
              "   target  \n",
              "0       0  \n",
              "1       0  \n",
              "2       0  \n",
              "3       0  \n",
              "4       0  "
            ],
            "text/html": [
              "\n",
              "  <div id=\"df-a8d2b0aa-8217-4ad4-9096-3eee81492890\">\n",
              "    <div class=\"colab-df-container\">\n",
              "      <div>\n",
              "<style scoped>\n",
              "    .dataframe tbody tr th:only-of-type {\n",
              "        vertical-align: middle;\n",
              "    }\n",
              "\n",
              "    .dataframe tbody tr th {\n",
              "        vertical-align: top;\n",
              "    }\n",
              "\n",
              "    .dataframe thead th {\n",
              "        text-align: right;\n",
              "    }\n",
              "</style>\n",
              "<table border=\"1\" class=\"dataframe\">\n",
              "  <thead>\n",
              "    <tr style=\"text-align: right;\">\n",
              "      <th></th>\n",
              "      <th>sepal length (cm)</th>\n",
              "      <th>sepal width (cm)</th>\n",
              "      <th>petal length (cm)</th>\n",
              "      <th>petal width (cm)</th>\n",
              "      <th>target</th>\n",
              "    </tr>\n",
              "  </thead>\n",
              "  <tbody>\n",
              "    <tr>\n",
              "      <th>0</th>\n",
              "      <td>5.1</td>\n",
              "      <td>3.5</td>\n",
              "      <td>1.4</td>\n",
              "      <td>0.2</td>\n",
              "      <td>0</td>\n",
              "    </tr>\n",
              "    <tr>\n",
              "      <th>1</th>\n",
              "      <td>4.9</td>\n",
              "      <td>3.0</td>\n",
              "      <td>1.4</td>\n",
              "      <td>0.2</td>\n",
              "      <td>0</td>\n",
              "    </tr>\n",
              "    <tr>\n",
              "      <th>2</th>\n",
              "      <td>4.7</td>\n",
              "      <td>3.2</td>\n",
              "      <td>1.3</td>\n",
              "      <td>0.2</td>\n",
              "      <td>0</td>\n",
              "    </tr>\n",
              "    <tr>\n",
              "      <th>3</th>\n",
              "      <td>4.6</td>\n",
              "      <td>3.1</td>\n",
              "      <td>1.5</td>\n",
              "      <td>0.2</td>\n",
              "      <td>0</td>\n",
              "    </tr>\n",
              "    <tr>\n",
              "      <th>4</th>\n",
              "      <td>5.0</td>\n",
              "      <td>3.6</td>\n",
              "      <td>1.4</td>\n",
              "      <td>0.2</td>\n",
              "      <td>0</td>\n",
              "    </tr>\n",
              "  </tbody>\n",
              "</table>\n",
              "</div>\n",
              "      <button class=\"colab-df-convert\" onclick=\"convertToInteractive('df-a8d2b0aa-8217-4ad4-9096-3eee81492890')\"\n",
              "              title=\"Convert this dataframe to an interactive table.\"\n",
              "              style=\"display:none;\">\n",
              "        \n",
              "  <svg xmlns=\"http://www.w3.org/2000/svg\" height=\"24px\"viewBox=\"0 0 24 24\"\n",
              "       width=\"24px\">\n",
              "    <path d=\"M0 0h24v24H0V0z\" fill=\"none\"/>\n",
              "    <path d=\"M18.56 5.44l.94 2.06.94-2.06 2.06-.94-2.06-.94-.94-2.06-.94 2.06-2.06.94zm-11 1L8.5 8.5l.94-2.06 2.06-.94-2.06-.94L8.5 2.5l-.94 2.06-2.06.94zm10 10l.94 2.06.94-2.06 2.06-.94-2.06-.94-.94-2.06-.94 2.06-2.06.94z\"/><path d=\"M17.41 7.96l-1.37-1.37c-.4-.4-.92-.59-1.43-.59-.52 0-1.04.2-1.43.59L10.3 9.45l-7.72 7.72c-.78.78-.78 2.05 0 2.83L4 21.41c.39.39.9.59 1.41.59.51 0 1.02-.2 1.41-.59l7.78-7.78 2.81-2.81c.8-.78.8-2.07 0-2.86zM5.41 20L4 18.59l7.72-7.72 1.47 1.35L5.41 20z\"/>\n",
              "  </svg>\n",
              "      </button>\n",
              "      \n",
              "  <style>\n",
              "    .colab-df-container {\n",
              "      display:flex;\n",
              "      flex-wrap:wrap;\n",
              "      gap: 12px;\n",
              "    }\n",
              "\n",
              "    .colab-df-convert {\n",
              "      background-color: #E8F0FE;\n",
              "      border: none;\n",
              "      border-radius: 50%;\n",
              "      cursor: pointer;\n",
              "      display: none;\n",
              "      fill: #1967D2;\n",
              "      height: 32px;\n",
              "      padding: 0 0 0 0;\n",
              "      width: 32px;\n",
              "    }\n",
              "\n",
              "    .colab-df-convert:hover {\n",
              "      background-color: #E2EBFA;\n",
              "      box-shadow: 0px 1px 2px rgba(60, 64, 67, 0.3), 0px 1px 3px 1px rgba(60, 64, 67, 0.15);\n",
              "      fill: #174EA6;\n",
              "    }\n",
              "\n",
              "    [theme=dark] .colab-df-convert {\n",
              "      background-color: #3B4455;\n",
              "      fill: #D2E3FC;\n",
              "    }\n",
              "\n",
              "    [theme=dark] .colab-df-convert:hover {\n",
              "      background-color: #434B5C;\n",
              "      box-shadow: 0px 1px 3px 1px rgba(0, 0, 0, 0.15);\n",
              "      filter: drop-shadow(0px 1px 2px rgba(0, 0, 0, 0.3));\n",
              "      fill: #FFFFFF;\n",
              "    }\n",
              "  </style>\n",
              "\n",
              "      <script>\n",
              "        const buttonEl =\n",
              "          document.querySelector('#df-a8d2b0aa-8217-4ad4-9096-3eee81492890 button.colab-df-convert');\n",
              "        buttonEl.style.display =\n",
              "          google.colab.kernel.accessAllowed ? 'block' : 'none';\n",
              "\n",
              "        async function convertToInteractive(key) {\n",
              "          const element = document.querySelector('#df-a8d2b0aa-8217-4ad4-9096-3eee81492890');\n",
              "          const dataTable =\n",
              "            await google.colab.kernel.invokeFunction('convertToInteractive',\n",
              "                                                     [key], {});\n",
              "          if (!dataTable) return;\n",
              "\n",
              "          const docLinkHtml = 'Like what you see? Visit the ' +\n",
              "            '<a target=\"_blank\" href=https://colab.research.google.com/notebooks/data_table.ipynb>data table notebook</a>'\n",
              "            + ' to learn more about interactive tables.';\n",
              "          element.innerHTML = '';\n",
              "          dataTable['output_type'] = 'display_data';\n",
              "          await google.colab.output.renderOutput(dataTable, element);\n",
              "          const docLink = document.createElement('div');\n",
              "          docLink.innerHTML = docLinkHtml;\n",
              "          element.appendChild(docLink);\n",
              "        }\n",
              "      </script>\n",
              "    </div>\n",
              "  </div>\n",
              "  "
            ]
          },
          "metadata": {},
          "execution_count": 34
        }
      ]
    },
    {
      "cell_type": "markdown",
      "source": [
        "For better understanding, we categorized them based on 2 components\n",
        "\n",
        "But basically we used all the components in our code\n",
        "This was just to draw a diagram"
      ],
      "metadata": {
        "id": "SwIFzisx8GIw"
      }
    },
    {
      "cell_type": "code",
      "source": [
        "import matplotlib.pyplot as plt\n",
        "\n",
        "inv_name_dict = {\n",
        "  0: 0,\n",
        "  1: 1,\n",
        "  2: 2\n",
        "}\n",
        "\n",
        "colors = [inv_name_dict[item] for item in iris_df['target']]\n",
        "scatter = plt.scatter(iris_df['petal length (cm)'], iris_df['petal width (cm)'],c = colors)\n",
        "plt.xlabel('petal length (cm)')\n",
        "plt.ylabel('petal width (cm)')\n",
        "plt.legend(handles= scatter.legend_elements()[0],\n",
        "labels = inv_name_dict.keys())\n",
        "plt.savefig(\"plot.png\")\n",
        "plt.show()"
      ],
      "metadata": {
        "colab": {
          "base_uri": "https://localhost:8080/",
          "height": 279
        },
        "id": "h6R8_V8yr-Y7",
        "outputId": "01bf6130-37e2-4c29-8da5-d27563f482af"
      },
      "execution_count": 35,
      "outputs": [
        {
          "output_type": "display_data",
          "data": {
            "text/plain": [
              "<Figure size 432x288 with 1 Axes>"
            ],
            "image/png": "[encoded data removed]"
          },
          "metadata": {
            "needs_background": "light"
          }
        }
      ]
    },
    {
      "cell_type": "markdown",
      "source": [
        "**Algorithm testing**"
      ],
      "metadata": {
        "id": "uPXw8F678H7y"
      }
    },
    {
      "cell_type": "code",
      "source": [
        "from sklearn.model_selection import train_test_split\n",
        "X_train, X_test, y_train, y_test = train_test_split(\n",
        "        X, y, test_size=0.2, random_state=1234\n",
        ")\n",
        "model = KNN(3)\n",
        "model.fit(X_train, y_train)\n",
        "predictions = model.predict(X_test)\n",
        "print(\"KNN classification accuracy\", model.accuracy(y_test, predictions))"
      ],
      "metadata": {
        "colab": {
          "base_uri": "https://localhost:8080/"
        },
        "id": "9cnVgrnNs2CC",
        "outputId": "3a0ccf19-2a8b-407e-fdf3-7c24f951f0c4"
      },
      "execution_count": 38,
      "outputs": [
        {
          "output_type": "stream",
          "name": "stdout",
          "text": [
            "KNN classification accuracy 1.0\n"
          ]
        }
      ]
    }
  ]
}